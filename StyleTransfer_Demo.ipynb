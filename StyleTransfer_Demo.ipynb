{
  "nbformat": 4,
  "nbformat_minor": 0,
  "metadata": {
    "colab": {
      "name": "StyleTransfer-Demo.ipynb",
      "provenance": [],
      "collapsed_sections": [],
      "include_colab_link": true
    },
    "kernelspec": {
      "name": "python3",
      "display_name": "Python 3"
    },
    "language_info": {
      "name": "python"
    }
  },
  "cells": [
    {
      "cell_type": "markdown",
      "metadata": {
        "id": "view-in-github",
        "colab_type": "text"
      },
      "source": [
        "<a href=\"https://colab.research.google.com/github/costiash/Fast-Style-Transfer/blob/main/StyleTransfer_Demo.ipynb\" target=\"_parent\"><img src=\"https://colab.research.google.com/assets/colab-badge.svg\" alt=\"Open In Colab\"/></a>"
      ]
    },
    {
      "cell_type": "markdown",
      "metadata": {
        "id": "qirbWuXvoJ96"
      },
      "source": [
        "Hi all and welcome to my Style Transfer Demo :)\n",
        "\n",
        "Style Transfer is a technique in which we use a convolutional neural network for transferring the \"style\" of some image into a \"regular\" \n",
        "content image. The model in this demo was made and trained by me, based on this \n",
        "<a href=\"https://arxiv.org/pdf/1603.08155.pdf\">paper</a>.\n",
        "\n",
        "INSTRUCTIONS FOR THE DEMO:\n",
        "\n",
        "\n",
        "\n",
        "1.   Run the cells by the order they appear.\n",
        "2.   Run each cell alone and wait for it to complete its run before you move to the next cell.\n",
        "\n",
        "1.   Before you start, press the 'Connect' in the upper-right side. If you don't see it and instead you are seeing a green 'V' sign you are all good.\n",
        "2.   For running each cell just press the 'play' button that appears on the left side of the cell.\n",
        "\n",
        "1.   Read the individual instructions of each cell before you run it.\n",
        "2.   HAVE FUN AND ENJOY!!!!"
      ]
    },
    {
      "cell_type": "code",
      "metadata": {
        "id": "QKN7etcS5YoM",
        "cellView": "form"
      },
      "source": [
        "#@title 1. Setup\n",
        "#@markdown Just run this cell as is. ***Don't modify the code block.*** Notice that at some point you will be asked to enter a choice into the input box, just write '1' (the number one) in the input box and press enter.\n",
        "#@markdown Make sure that the cell finish to run and the only output you see is \"You are all set!\" before you continue to the next cell. \n",
        "\n",
        "from IPython.display import clear_output\n",
        "import tensorflow as tf\n",
        "from PIL import Image\n",
        "import matplotlib.pyplot as plt\n",
        "import matplotlib\n",
        " \n",
        "!pip install wandb -qq\n",
        "import wandb\n",
        "wandb.login(anonymous='allow')\n",
        "clear_output()\n",
        "content_image = None # This needs to be in global scope\n",
        "\n",
        "print('You are all set!')"
      ],
      "execution_count": null,
      "outputs": []
    },
    {
      "cell_type": "code",
      "metadata": {
        "id": "9KXAa0_cDSOM",
        "cellView": "form"
      },
      "source": [
        "#@title 2. Upload an image you want to stylize\n",
        "#@markdown First, run the cell then press the 'Upload' button and finally press 'Show Image'. Wait until you see the image you just uploaded on the screen before you continue to the next cell.\n",
        "\n",
        "#@markdown It's recommended to upload high resolution images for better effect.\n",
        "from IPython.display import display\n",
        "import ipywidgets as widgets\n",
        "from PIL import Image\n",
        "import numpy as np\n",
        "import io\n",
        "\n",
        "clear_output()\n",
        "\n",
        "def load_image(image_path,dim=None,resize=False):\n",
        "    img= Image.open(image_path)\n",
        "    if dim:\n",
        "        if resize:\n",
        "            img=img.resize(dim,Image.LANCZOS)\n",
        "        else:\n",
        "            img.thumbnail(dim)\n",
        "    img= img.convert(\"RGB\")\n",
        "    return np.array(img)\n",
        "\n",
        "\n",
        "def show_image(image,title=None):\n",
        "    if len(image.shape)>3:\n",
        "        image=tf.squeeze(image,axis=0)\n",
        "    plt.imshow(image)\n",
        "    if title:\n",
        "        plt.title=title\n",
        "\n",
        "\n",
        "def button_click(change):\n",
        "    global content_image\n",
        "    print('\\n')\n",
        "    img = load_image(io.BytesIO(uploader.data[-1]))\n",
        "    content_image = img\n",
        "    show_image(content_image)\n",
        "    plt.imsave('content.jpg', content_image)\n",
        "    \n",
        "uploader = widgets.FileUpload()\n",
        "show_button = widgets.Button(description='Show image')\n",
        "show_button.on_click(button_click)\n",
        "\n",
        "widgets.VBox([widgets.Label('Upload a content image (jpg, jpeg or png).'), uploader, show_button])"
      ],
      "execution_count": null,
      "outputs": []
    },
    {
      "cell_type": "code",
      "metadata": {
        "id": "KAvSZ3AdE_mi",
        "cellView": "form"
      },
      "source": [
        "#@title 3. Choose a style image from the options below\n",
        "#@markdown Press the little arrow in the right corner(in the next line) to see the list of styles and then choose the one you liked and run the cell. If you want to choose a different style afterword, make sure you run this cell (and the cells after it) again.\n",
        "from urllib.parse import urlsplit\n",
        "import urllib.request\n",
        "\n",
        "\n",
        "STYLE_IMAGE_NAME = 'STYLE_1' #@param ['STYLE_1', 'STYLE_2', 'STYLE_3', 'STYLE_4', 'STYLE_5', 'STYLE_6', 'STYLE_7', 'STYLE_8', 'STYLE_9']\n",
        "\n",
        "corresponding_url = {\n",
        "    'STYLE_1': 'https://storage.googleapis.com/my-saved-models/style_transfer1.tflite',\n",
        "    'STYLE_2': 'https://storage.googleapis.com/my-saved-models/style_transfer3.tflite',\n",
        "    'STYLE_3': 'https://storage.googleapis.com/my-saved-models/style_transfer2.tflite',\n",
        "    'STYLE_4': 'https://storage.googleapis.com/my-saved-models/style_transfer4.tflite',\n",
        "    'STYLE_5': 'https://storage.googleapis.com/my-saved-models/style_transfer5.tflite',\n",
        "    'STYLE_6': 'https://storage.googleapis.com/my-saved-models/style_transfer6.tflite',\n",
        "    'STYLE_7': 'https://storage.googleapis.com/my-saved-models/style_transfer7.tflite',\n",
        "    'STYLE_8': 'https://storage.googleapis.com/my-saved-models/style_transfer8.tflite',\n",
        "    'STYLE_9': 'https://storage.googleapis.com/my-saved-models/style_transfer9.tflite',\n",
        "}\n",
        "\n",
        "url = corresponding_url[STYLE_IMAGE_NAME]\n",
        "r1 = urlsplit(url)\n",
        "style_transfer_path = '/content/style_transfer' + STYLE_IMAGE_NAME.split('_')[1] + '.tflite'\n",
        "urllib.request.urlretrieve(r1.geturl(), style_transfer_path)\n",
        "# style_image_path = tf.keras.utils.get_file(STYLE_IMAGE_NAME + \".jpg\", corresponding_url[STYLE_IMAGE_NAME])\n",
        "print(\"The Style Transfer Network is ready!\")"
      ],
      "execution_count": null,
      "outputs": []
    },
    {
      "cell_type": "markdown",
      "metadata": {
        "id": "wx01314cp0xz"
      },
      "source": [
        "<center><img src=\"https://i.ibb.co/SNRwr06/choose.png\" alt=\"choose\" border=\"0\"></center>"
      ]
    },
    {
      "cell_type": "code",
      "metadata": {
        "id": "JjQs7BhSBmj1",
        "cellView": "form"
      },
      "source": [
        "#@title 4. Stylize image\n",
        "#@markdown If you are running this demo on a mobile device, it might take between 1-2 minutes to stylize 'big' image so just wait till you see the resulting image\n",
        "content_blending_ratio = 0 #@param {type:\"slider\", min:0, max:1, step:0.1}\n",
        "#@markdown You're encouraged to play with the different values of `content_blending_ratio`.\n",
        "\n",
        "\n",
        "#@markdown ***If the process crashes it's probably due the size of the image you chose so just re-run the demo and try to pick a smaller image.***\n",
        "content = \"/content/content.jpg\"\n",
        "content = load_image(content)\n",
        "content = np.expand_dims(content,axis=0)\n",
        "content = content.astype(np.float32)\n",
        "\n",
        "content_image_height = content.shape[1]\n",
        "content_image_width = content.shape[2]\n",
        "\n",
        "\n",
        "def run_style_transform(content_img, path):\n",
        "  # Load the model.\n",
        "  interpreter = tf.lite.Interpreter(model_path=path)\n",
        "\n",
        "  # Set model input.\n",
        "  input_details = interpreter.get_input_details()\n",
        "  for index in range(len(input_details)):\n",
        "    if input_details[index][\"name\"]=='content':\n",
        "      index = input_details[index][\"index\"]\n",
        "      interpreter.resize_tensor_input(index, [1, content_image_height, content_image_width, 3])\n",
        "  interpreter.allocate_tensors()\n",
        "\n",
        "  # Set model inputs.\n",
        "  for index in range(len(input_details)):\n",
        "    if input_details[index][\"name\"]=='content':\n",
        "      interpreter.set_tensor(input_details[index][\"index\"], content_img)\n",
        "\n",
        "  interpreter.invoke()\n",
        "\n",
        "  # Transform content image.\n",
        "  stylized_image = interpreter.tensor(interpreter.get_output_details()[0][\"index\"])()\n",
        "\n",
        "  return stylized_image\n",
        "\n",
        "print('Working on it, just wait couple of seconds!')\n",
        "style = run_style_transform(content, style_transfer_path)\n",
        "\n",
        "if content_blending_ratio > 0:\n",
        "\n",
        "  style = tf.image.resize(style, size=(content_image_height, content_image_width))\n",
        "  style = content_blending_ratio*content + (1.0 - content_blending_ratio)*style\n",
        "\n",
        "\n",
        "style = np.clip(style, 0, 255)\n",
        "style = style.astype(np.uint8)\n",
        "\n",
        "predicted_output = tf.squeeze(style).numpy()\n",
        "show_image(predicted_output)\n",
        "\n",
        "plt.imsave('result.png', predicted_output)"
      ],
      "execution_count": null,
      "outputs": []
    },
    {
      "cell_type": "code",
      "metadata": {
        "id": "1PXQ0_fOTUtz",
        "cellView": "form"
      },
      "source": [
        "#@title 5. Save your results\n",
        "#@markdown After the saving, press the image to see it full size and then just download it.\n",
        "\n",
        "\n",
        "#@markdown If you experiment with the different `content_blending_ratio` values make sure you run this code block again in order to store your results online.\n",
        "\n",
        "images = [style]\n",
        "captions = [\"stylized_image\"]\n",
        "\n",
        "wandb.init(project='fst', entity='costico', anonymous='allow')\n",
        "wandb.log({\"Results\": [wandb.Image(tf.squeeze(image, 0), caption=caption)\n",
        "    for (image, caption) in zip(images, captions)]})\n",
        "display(wandb.jupyter.Run())"
      ],
      "execution_count": null,
      "outputs": []
    }
  ]
}